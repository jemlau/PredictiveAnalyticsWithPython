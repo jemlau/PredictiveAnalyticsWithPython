{
 "cells": [
  {
   "cell_type": "code",
   "execution_count": 17,
   "metadata": {},
   "outputs": [],
   "source": [
    "import pandas as pd\n",
    "import numpy as np\n",
    "from sklearn.svm import SVC\n",
    "\n",
    "from sklearn.model_selection import train_test_split, GridSearchCV\n",
    "from sklearn.neighbors import KNeighborsClassifier\n",
    "from sklearn.metrics import accuracy_score\n",
    "\n",
    "import matplotlib.pyplot as plt\n",
    "import seaborn as sns\n",
    "\n",
    "from sklearn.metrics import classification_report, confusion_matrix, ConfusionMatrixDisplay\n",
    "\n",
    "from sklearn.preprocessing import StandardScaler\n",
    "\n",
    "from IPython.display import display"
   ]
  },
  {
   "cell_type": "code",
   "execution_count": 18,
   "metadata": {},
   "outputs": [],
   "source": [
    "df_mushroom_dataset = pd.read_csv('mushroom_sample_5_percent.csv')"
   ]
  },
  {
   "cell_type": "code",
   "execution_count": 19,
   "metadata": {},
   "outputs": [
    {
     "data": {
      "text/html": [
       "<div>\n",
       "<style scoped>\n",
       "    .dataframe tbody tr th:only-of-type {\n",
       "        vertical-align: middle;\n",
       "    }\n",
       "\n",
       "    .dataframe tbody tr th {\n",
       "        vertical-align: top;\n",
       "    }\n",
       "\n",
       "    .dataframe thead th {\n",
       "        text-align: right;\n",
       "    }\n",
       "</style>\n",
       "<table border=\"1\" class=\"dataframe\">\n",
       "  <thead>\n",
       "    <tr style=\"text-align: right;\">\n",
       "      <th></th>\n",
       "      <th>cap-diameter</th>\n",
       "      <th>cap-shape</th>\n",
       "      <th>gill-attachment</th>\n",
       "      <th>gill-color</th>\n",
       "      <th>stem-height</th>\n",
       "      <th>stem-width</th>\n",
       "      <th>stem-color</th>\n",
       "      <th>season</th>\n",
       "      <th>class</th>\n",
       "    </tr>\n",
       "  </thead>\n",
       "  <tbody>\n",
       "    <tr>\n",
       "      <th>0</th>\n",
       "      <td>826</td>\n",
       "      <td>2</td>\n",
       "      <td>0</td>\n",
       "      <td>10</td>\n",
       "      <td>0.044195</td>\n",
       "      <td>2433</td>\n",
       "      <td>6</td>\n",
       "      <td>1.804273</td>\n",
       "      <td>0</td>\n",
       "    </tr>\n",
       "    <tr>\n",
       "      <th>1</th>\n",
       "      <td>571</td>\n",
       "      <td>6</td>\n",
       "      <td>2</td>\n",
       "      <td>4</td>\n",
       "      <td>0.536738</td>\n",
       "      <td>761</td>\n",
       "      <td>4</td>\n",
       "      <td>0.943195</td>\n",
       "      <td>1</td>\n",
       "    </tr>\n",
       "    <tr>\n",
       "      <th>2</th>\n",
       "      <td>1122</td>\n",
       "      <td>2</td>\n",
       "      <td>0</td>\n",
       "      <td>0</td>\n",
       "      <td>0.450051</td>\n",
       "      <td>1942</td>\n",
       "      <td>11</td>\n",
       "      <td>0.943195</td>\n",
       "      <td>0</td>\n",
       "    </tr>\n",
       "    <tr>\n",
       "      <th>3</th>\n",
       "      <td>278</td>\n",
       "      <td>2</td>\n",
       "      <td>0</td>\n",
       "      <td>4</td>\n",
       "      <td>0.190566</td>\n",
       "      <td>576</td>\n",
       "      <td>11</td>\n",
       "      <td>0.943195</td>\n",
       "      <td>0</td>\n",
       "    </tr>\n",
       "    <tr>\n",
       "      <th>4</th>\n",
       "      <td>735</td>\n",
       "      <td>2</td>\n",
       "      <td>6</td>\n",
       "      <td>10</td>\n",
       "      <td>1.455884</td>\n",
       "      <td>1077</td>\n",
       "      <td>11</td>\n",
       "      <td>0.888450</td>\n",
       "      <td>1</td>\n",
       "    </tr>\n",
       "  </tbody>\n",
       "</table>\n",
       "</div>"
      ],
      "text/plain": [
       "   cap-diameter  cap-shape  gill-attachment  gill-color  stem-height  \\\n",
       "0           826          2                0          10     0.044195   \n",
       "1           571          6                2           4     0.536738   \n",
       "2          1122          2                0           0     0.450051   \n",
       "3           278          2                0           4     0.190566   \n",
       "4           735          2                6          10     1.455884   \n",
       "\n",
       "   stem-width  stem-color    season  class  \n",
       "0        2433           6  1.804273      0  \n",
       "1         761           4  0.943195      1  \n",
       "2        1942          11  0.943195      0  \n",
       "3         576          11  0.943195      0  \n",
       "4        1077          11  0.888450      1  "
      ]
     },
     "execution_count": 19,
     "metadata": {},
     "output_type": "execute_result"
    }
   ],
   "source": [
    "df_mushroom_dataset.head()"
   ]
  },
  {
   "cell_type": "code",
   "execution_count": 20,
   "metadata": {},
   "outputs": [
    {
     "name": "stdout",
     "output_type": "stream",
     "text": [
      "<class 'pandas.core.frame.DataFrame'>\n",
      "RangeIndex: 2702 entries, 0 to 2701\n",
      "Data columns (total 9 columns):\n",
      " #   Column           Non-Null Count  Dtype  \n",
      "---  ------           --------------  -----  \n",
      " 0   cap-diameter     2702 non-null   int64  \n",
      " 1   cap-shape        2702 non-null   int64  \n",
      " 2   gill-attachment  2702 non-null   int64  \n",
      " 3   gill-color       2702 non-null   int64  \n",
      " 4   stem-height      2702 non-null   float64\n",
      " 5   stem-width       2702 non-null   int64  \n",
      " 6   stem-color       2702 non-null   int64  \n",
      " 7   season           2702 non-null   float64\n",
      " 8   class            2702 non-null   int64  \n",
      "dtypes: float64(2), int64(7)\n",
      "memory usage: 190.1 KB\n"
     ]
    }
   ],
   "source": [
    "df_mushroom_dataset.info()"
   ]
  },
  {
   "cell_type": "code",
   "execution_count": 21,
   "metadata": {},
   "outputs": [
    {
     "name": "stdout",
     "output_type": "stream",
     "text": [
      "       cap-diameter    cap-shape  gill-attachment   gill-color  stem-height  \\\n",
      "count   2702.000000  2702.000000      2702.000000  2702.000000  2702.000000   \n",
      "mean     565.940785     4.007772         2.156181     7.274611     0.750989   \n",
      "std      355.135107     2.164542         2.255611     3.225812     0.640945   \n",
      "min        7.000000     0.000000         0.000000     0.000000     0.000426   \n",
      "25%      289.250000     2.000000         0.000000     5.000000     0.270146   \n",
      "50%      528.000000     5.000000         1.000000     7.000000     0.580932   \n",
      "75%      783.000000     6.000000         4.000000    10.000000     1.061182   \n",
      "max     1890.000000     6.000000         6.000000    11.000000     3.811446   \n",
      "\n",
      "        stem-width   stem-color       season        class  \n",
      "count  2702.000000  2702.000000  2702.000000  2702.000000  \n",
      "mean   1049.503331     8.487787     0.955816     0.544412  \n",
      "std     782.218728     3.271674     0.310441     0.498116  \n",
      "min       0.000000     0.000000     0.027372     0.000000  \n",
      "25%     418.250000     6.000000     0.888450     0.000000  \n",
      "50%     914.500000    11.000000     0.943195     1.000000  \n",
      "75%    1526.000000    11.000000     0.943195     1.000000  \n",
      "max    3557.000000    12.000000     1.804273     1.000000  \n"
     ]
    }
   ],
   "source": [
    "print(df_mushroom_dataset.describe())"
   ]
  },
  {
   "cell_type": "markdown",
   "metadata": {},
   "source": [
    "## Scaling the data"
   ]
  },
  {
   "cell_type": "code",
   "execution_count": 22,
   "metadata": {},
   "outputs": [],
   "source": [
    "X = df_mushroom_dataset.drop(columns=['class'])  # Features (all columns except 'class')\n",
    "y = df_mushroom_dataset['class']\n",
    "\n",
    "scaler = StandardScaler()\n",
    "X_scaled = scaler.fit_transform(X)"
   ]
  },
  {
   "cell_type": "markdown",
   "metadata": {},
   "source": [
    "## Divide data to train and tests"
   ]
  },
  {
   "cell_type": "code",
   "execution_count": 31,
   "metadata": {},
   "outputs": [],
   "source": [
    "X_train_scaled, X_test_scaled, y_train, y_test = train_test_split(X_scaled, y, test_size=0.2, random_state=42)\n",
    "\n",
    "X_train_no_scaling, X_test_no_scaling, y_train, y_test = train_test_split(X, y, test_size=0.2, random_state=42)"
   ]
  },
  {
   "cell_type": "markdown",
   "metadata": {},
   "source": [
    "## kNN"
   ]
  },
  {
   "cell_type": "code",
   "execution_count": 32,
   "metadata": {},
   "outputs": [
    {
     "name": "stdout",
     "output_type": "stream",
     "text": [
      "kNN Accuracy with scaling (k=1): 0.96\n",
      "kNN Accuracy with scaling (k=2): 0.94\n",
      "kNN Accuracy with scaling (k=3): 0.94\n",
      "kNN Accuracy with scaling (k=4): 0.92\n",
      "kNN Accuracy with scaling (k=5): 0.91\n",
      "kNN Accuracy with scaling (k=6): 0.90\n",
      "kNN Accuracy with scaling (k=7): 0.90\n",
      "kNN Accuracy with scaling (k=8): 0.88\n",
      "kNN Accuracy with scaling (k=9): 0.87\n",
      "kNN Accuracy with scaling (k=10): 0.87\n"
     ]
    }
   ],
   "source": [
    "# Which K value is most accurate\n",
    "for k in range(1, 11):  # Try K from 1 to 10\n",
    "    knn_scaled = KNeighborsClassifier(n_neighbors=k)\n",
    "    knn_scaled.fit(X_train_scaled, y_train)\n",
    "    y_pred_knn_scaled = knn_scaled.predict(X_test_scaled)\n",
    "    accuracy_scaled = accuracy_score(y_test, y_pred_knn_scaled)\n",
    "    print(f\"kNN Accuracy with scaling (k={k}): {accuracy_scaled:.2f}\")"
   ]
  },
  {
   "cell_type": "code",
   "execution_count": 33,
   "metadata": {},
   "outputs": [
    {
     "name": "stdout",
     "output_type": "stream",
     "text": [
      "kNN Accuracy without scaling (k=1): 0.64\n",
      "kNN Accuracy without scaling (k=2): 0.66\n",
      "kNN Accuracy without scaling (k=3): 0.67\n",
      "kNN Accuracy without scaling (k=4): 0.68\n",
      "kNN Accuracy without scaling (k=5): 0.69\n",
      "kNN Accuracy without scaling (k=6): 0.70\n",
      "kNN Accuracy without scaling (k=7): 0.70\n",
      "kNN Accuracy without scaling (k=8): 0.69\n",
      "kNN Accuracy without scaling (k=9): 0.68\n",
      "kNN Accuracy without scaling (k=10): 0.67\n"
     ]
    }
   ],
   "source": [
    "#Loop over different values of k (1 to 10) for kNN without scaling\n",
    "for k in range(1, 11):\n",
    "    knn_no_scaling = KNeighborsClassifier(n_neighbors=k)\n",
    "    knn_no_scaling.fit(X_train_no_scaling, y_train)\n",
    "    y_pred_knn_no_scaling = knn_no_scaling.predict(X_test_no_scaling)\n",
    "    accuracy = accuracy_score(y_test, y_pred_knn_no_scaling)\n",
    "    print(f\"kNN Accuracy without scaling (k={k}): {accuracy:.2f}\")\n"
   ]
  },
  {
   "cell_type": "markdown",
   "metadata": {},
   "source": [
    "## SVM"
   ]
  },
  {
   "cell_type": "code",
   "execution_count": 26,
   "metadata": {},
   "outputs": [
    {
     "name": "stdout",
     "output_type": "stream",
     "text": [
      "Kernel=linear, Accuracy: 0.66\n",
      "Kernel=rbf, Accuracy: 0.79\n",
      "Kernel=poly, Accuracy: 0.73\n"
     ]
    }
   ],
   "source": [
    "# Loop over different kernels\n",
    "for kernel in ['linear', 'rbf', 'poly']:\n",
    "    svm = SVC(kernel=kernel)\n",
    "    svm.fit(X_train_scaled, y_train)\n",
    "    y_pred_svm_scaled = svm.predict(X_test_scaled)\n",
    "    \n",
    "    print(f\"Kernel={kernel}, Accuracy: {accuracy_score(y_test, y_pred_svm_scaled):.2f}\")"
   ]
  },
  {
   "cell_type": "code",
   "execution_count": 27,
   "metadata": {},
   "outputs": [
    {
     "name": "stdout",
     "output_type": "stream",
     "text": [
      "SVM Accuracy without scaling (kernel=linear): 0.66\n",
      "SVM Accuracy without scaling (kernel=rbf): 0.62\n",
      "SVM Accuracy without scaling (kernel=poly): 0.55\n"
     ]
    }
   ],
   "source": [
    "#Loop over different kernels for SVM without scaling\n",
    "for kernel in ['linear', 'rbf', 'poly']:\n",
    "    svm_no_scaling = SVC(kernel=kernel)\n",
    "    svm_no_scaling.fit(X_train_no_scaling, y_train)\n",
    "    y_pred_svm_no_scaling = svm_no_scaling.predict(X_test_no_scaling)\n",
    "    \n",
    "    print(f\"SVM Accuracy without scaling (kernel={kernel}): {accuracy_score(y_test, y_pred_svm_no_scaling):.2f}\")"
   ]
  },
  {
   "cell_type": "code",
   "execution_count": 28,
   "metadata": {},
   "outputs": [
    {
     "name": "stdout",
     "output_type": "stream",
     "text": [
      "Best parameters for SVM with scaling: {'C': 10, 'kernel': 'rbf'}\n",
      "Best score for SVM with scaling: 0.8463679325977248\n",
      "Accuracy of SVM with scaling: 0.87\n"
     ]
    }
   ],
   "source": [
    "from sklearn.svm import SVC\n",
    "\n",
    "parameters = {'kernel': ('linear', 'rbf'), 'C': [1, 10]}\n",
    "\n",
    "svc_scaled = SVC()\n",
    "\n",
    "clf_scaled = GridSearchCV(svc_scaled, parameters, n_jobs=-1)\n",
    "\n",
    "clf_scaled.fit(X_train_scaled, y_train)\n",
    "\n",
    "print(f\"Best parameters for SVM with scaling: {clf_scaled.best_params_}\")\n",
    "print(f\"Best score for SVM with scaling: {clf_scaled.best_score_}\")\n",
    "\n",
    "y_pred_scaled = clf_scaled.predict(X_test_scaled)\n",
    "\n",
    "accuracy_scaled = accuracy_score(y_test, y_pred_scaled)\n",
    "print(f\"Accuracy of SVM with scaling: {accuracy_scaled:.2f}\")"
   ]
  },
  {
   "cell_type": "code",
   "execution_count": 29,
   "metadata": {},
   "outputs": [
    {
     "name": "stdout",
     "output_type": "stream",
     "text": [
      "Best parameters for SVM without scaling: {'C': 1, 'kernel': 'linear'}\n",
      "Best score for SVM without scaling: 0.6381265503378668\n",
      "Accuracy of SVM without scaling: 0.66\n"
     ]
    }
   ],
   "source": [
    "parameters = {'kernel': ('linear', 'rbf'), 'C': [1, 10]}\n",
    "\n",
    "svc_no_scaling = SVC()\n",
    "\n",
    "clf_no_scaling = GridSearchCV(svc_no_scaling, parameters)\n",
    "\n",
    "clf_no_scaling.fit(X_train_no_scaling, y_train)\n",
    "\n",
    "print(f\"Best parameters for SVM without scaling: {clf_no_scaling.best_params_}\")\n",
    "print(f\"Best score for SVM without scaling: {clf_no_scaling.best_score_}\")\n",
    "\n",
    "y_pred_no_scaling = clf_no_scaling.predict(X_test_no_scaling)\n",
    "\n",
    "accuracy_no_scaling = accuracy_score(y_test, y_pred_no_scaling)\n",
    "print(f\"Accuracy of SVM without scaling: {accuracy_no_scaling:.2f}\")"
   ]
  },
  {
   "cell_type": "markdown",
   "metadata": {},
   "source": [
    "## Confusion matrix"
   ]
  },
  {
   "cell_type": "code",
   "execution_count": 35,
   "metadata": {},
   "outputs": [
    {
     "data": {
      "text/plain": [
       "<sklearn.metrics._plot.confusion_matrix.ConfusionMatrixDisplay at 0x2618f093590>"
      ]
     },
     "execution_count": 35,
     "metadata": {},
     "output_type": "execute_result"
    },
    {
     "data": {
      "image/png": "[encoded data removed]",
      "text/plain": [
       "<Figure size 640x480 with 2 Axes>"
      ]
     },
     "metadata": {},
     "output_type": "display_data"
    }
   ],
   "source": [
    "#For kNN (Scaled)\n",
    "y_pred_knn_scaled = knn_scaled.predict(X_test_scaled)  # Predict using the scaled test data\n",
    "cm_knn_scaled = confusion_matrix(y_test, y_pred_knn_scaled)\n",
    "ConfusionMatrixDisplay(cm_knn_scaled, display_labels=[\"Edible\", \"Poisonous\"]).plot()"
   ]
  },
  {
   "cell_type": "code",
   "execution_count": null,
   "metadata": {},
   "outputs": [
    {
     "data": {
      "text/plain": [
       "<sklearn.metrics._plot.confusion_matrix.ConfusionMatrixDisplay at 0x2030a87d340>"
      ]
     },
     "execution_count": 15,
     "metadata": {},
     "output_type": "execute_result"
    },
    {
     "data": {
      "image/png": "[encoded data removed]",
      "text/plain": [
       "<Figure size 640x480 with 2 Axes>"
      ]
     },
     "metadata": {},
     "output_type": "display_data"
    }
   ],
   "source": [
    "#For SVM rbf kernel (Scaled)\n",
    "kernel = 'rbf'\n",
    "\n",
    "svm = SVC(kernel=kernel)\n",
    "svm.fit(X_train_scaled, y_train)\n",
    "y_pred_svm_scaled = svm.predict(X_test_scaled)\n",
    "cm_svm_scaled = confusion_matrix(y_test, y_pred_svm_scaled)\n",
    "\n",
    "ConfusionMatrixDisplay(cm_svm_scaled, display_labels=[\"Edible\", \"Poisonous\"]).plot()"
   ]
  },
  {
   "cell_type": "code",
   "execution_count": null,
   "metadata": {},
   "outputs": [
    {
     "data": {
      "text/plain": [
       "<sklearn.metrics._plot.confusion_matrix.ConfusionMatrixDisplay at 0x271e204a1e0>"
      ]
     },
     "execution_count": 15,
     "metadata": {},
     "output_type": "execute_result"
    },
    {
     "data": {
      "image/png": "[encoded data removed]",
      "text/plain": [
       "<Figure size 640x480 with 2 Axes>"
      ]
     },
     "metadata": {},
     "output_type": "display_data"
    }
   ],
   "source": [
    "# For kNN (Unscaled data)\n",
    "y_pred_knn_no_scaling = knn_no_scaling.predict(X_test_no_scaling)\n",
    "cm_knn_no_scaling = confusion_matrix(y_test, y_pred_knn_no_scaling)\n",
    "ConfusionMatrixDisplay(cm_knn_no_scaling, display_labels=[\"Edible\", \"Poisonous\"]).plot()"
   ]
  },
  {
   "cell_type": "code",
   "execution_count": 38,
   "metadata": {},
   "outputs": [
    {
     "data": {
      "text/plain": [
       "<sklearn.metrics._plot.confusion_matrix.ConfusionMatrixDisplay at 0x26194f96e10>"
      ]
     },
     "execution_count": 38,
     "metadata": {},
     "output_type": "execute_result"
    },
    {
     "data": {
      "image/png": "[encoded data removed]",
      "text/plain": [
       "<Figure size 640x480 with 2 Axes>"
      ]
     },
     "metadata": {},
     "output_type": "display_data"
    }
   ],
   "source": [
    "#For SVM rbf kernel (Unscaled)\n",
    "kernel = 'rbf'\n",
    "\n",
    "svm_no_scaling = SVC(kernel=kernel)\n",
    "svm_no_scaling.fit(X_train_no_scaling, y_train)\n",
    "y_pred_svm_no_scaling = svm_no_scaling.predict(X_test_no_scaling)\n",
    "cm_svm_no_scaling = confusion_matrix(y_test, y_pred_svm_no_scaling)\n",
    "\n",
    "ConfusionMatrixDisplay(cm_svm_no_scaling, display_labels=[\"Edible\", \"Poisonous\"]).plot()"
   ]
  },
  {
   "cell_type": "markdown",
   "metadata": {},
   "source": [
    "## kNN results"
   ]
  },
  {
   "cell_type": "code",
   "execution_count": 39,
   "metadata": {},
   "outputs": [
    {
     "name": "stdout",
     "output_type": "stream",
     "text": [
      "kNN Classification Report (Scaled):\n",
      "              precision    recall  f1-score   support\n",
      "\n",
      "           0       0.86      0.86      0.86       254\n",
      "           1       0.88      0.87      0.87       287\n",
      "\n",
      "    accuracy                           0.87       541\n",
      "   macro avg       0.87      0.87      0.87       541\n",
      "weighted avg       0.87      0.87      0.87       541\n",
      "\n"
     ]
    }
   ],
   "source": [
    "print(\"kNN Classification Report (Scaled):\")\n",
    "print(classification_report(y_test, y_pred_knn_scaled))"
   ]
  },
  {
   "cell_type": "code",
   "execution_count": 40,
   "metadata": {},
   "outputs": [
    {
     "name": "stdout",
     "output_type": "stream",
     "text": [
      "kNN Classification Report (No scaling):\n",
      "              precision    recall  f1-score   support\n",
      "\n",
      "           0       0.64      0.67      0.66       254\n",
      "           1       0.70      0.67      0.68       287\n",
      "\n",
      "    accuracy                           0.67       541\n",
      "   macro avg       0.67      0.67      0.67       541\n",
      "weighted avg       0.67      0.67      0.67       541\n",
      "\n"
     ]
    }
   ],
   "source": [
    "print(\"kNN Classification Report (No scaling):\")\n",
    "print(classification_report(y_test, y_pred_knn_no_scaling))"
   ]
  },
  {
   "cell_type": "markdown",
   "metadata": {},
   "source": [
    "## SVM results"
   ]
  },
  {
   "cell_type": "code",
   "execution_count": 41,
   "metadata": {},
   "outputs": [
    {
     "name": "stdout",
     "output_type": "stream",
     "text": [
      "SVM Classification Report:\n",
      "              precision    recall  f1-score   support\n",
      "\n",
      "           0       0.76      0.63      0.69       254\n",
      "           1       0.72      0.82      0.76       287\n",
      "\n",
      "    accuracy                           0.73       541\n",
      "   macro avg       0.74      0.73      0.73       541\n",
      "weighted avg       0.73      0.73      0.73       541\n",
      "\n"
     ]
    }
   ],
   "source": [
    "print(\"SVM Classification Report:\")\n",
    "print(classification_report(y_test, y_pred_svm_scaled))"
   ]
  },
  {
   "cell_type": "code",
   "execution_count": 42,
   "metadata": {},
   "outputs": [
    {
     "name": "stdout",
     "output_type": "stream",
     "text": [
      "SVM Classification Report (No scaling):\n",
      "              precision    recall  f1-score   support\n",
      "\n",
      "           0       0.67      0.39      0.49       254\n",
      "           1       0.61      0.83      0.70       287\n",
      "\n",
      "    accuracy                           0.62       541\n",
      "   macro avg       0.64      0.61      0.60       541\n",
      "weighted avg       0.64      0.62      0.60       541\n",
      "\n"
     ]
    }
   ],
   "source": [
    "print(\"SVM Classification Report (No scaling):\")\n",
    "print(classification_report(y_test, y_pred_svm_no_scaling))"
   ]
  },
  {
   "cell_type": "markdown",
   "metadata": {},
   "source": [
    "## Comparing results"
   ]
  },
  {
   "cell_type": "code",
   "execution_count": null,
   "metadata": {},
   "outputs": [
    {
     "data": {
      "text/html": [
       "<div>\n",
       "<style scoped>\n",
       "    .dataframe tbody tr th:only-of-type {\n",
       "        vertical-align: middle;\n",
       "    }\n",
       "\n",
       "    .dataframe tbody tr th {\n",
       "        vertical-align: top;\n",
       "    }\n",
       "\n",
       "    .dataframe thead th {\n",
       "        text-align: right;\n",
       "    }\n",
       "</style>\n",
       "<table border=\"1\" class=\"dataframe\">\n",
       "  <thead>\n",
       "    <tr style=\"text-align: right;\">\n",
       "      <th></th>\n",
       "      <th>Metric</th>\n",
       "      <th>kNN (Scaled)</th>\n",
       "      <th>kNN (No Scaling)</th>\n",
       "      <th>SVM (Scaled)</th>\n",
       "      <th>SVM (No Scaling)</th>\n",
       "    </tr>\n",
       "  </thead>\n",
       "  <tbody>\n",
       "    <tr>\n",
       "      <th>0</th>\n",
       "      <td>Precision (Class 0)</td>\n",
       "      <td>0.99</td>\n",
       "      <td>0.99</td>\n",
       "      <td>0.90</td>\n",
       "      <td>0.75</td>\n",
       "    </tr>\n",
       "    <tr>\n",
       "      <th>1</th>\n",
       "      <td>Precision (Class 1)</td>\n",
       "      <td>0.99</td>\n",
       "      <td>0.99</td>\n",
       "      <td>0.92</td>\n",
       "      <td>0.77</td>\n",
       "    </tr>\n",
       "    <tr>\n",
       "      <th>2</th>\n",
       "      <td>Recall (Class 0)</td>\n",
       "      <td>0.99</td>\n",
       "      <td>0.99</td>\n",
       "      <td>0.90</td>\n",
       "      <td>0.72</td>\n",
       "    </tr>\n",
       "    <tr>\n",
       "      <th>3</th>\n",
       "      <td>Recall (Class 1)</td>\n",
       "      <td>0.99</td>\n",
       "      <td>0.99</td>\n",
       "      <td>0.92</td>\n",
       "      <td>0.80</td>\n",
       "    </tr>\n",
       "    <tr>\n",
       "      <th>4</th>\n",
       "      <td>F1-Score (Class 0)</td>\n",
       "      <td>0.99</td>\n",
       "      <td>0.99</td>\n",
       "      <td>0.90</td>\n",
       "      <td>0.73</td>\n",
       "    </tr>\n",
       "    <tr>\n",
       "      <th>5</th>\n",
       "      <td>F1-Score (Class 1)</td>\n",
       "      <td>0.99</td>\n",
       "      <td>0.99</td>\n",
       "      <td>0.92</td>\n",
       "      <td>0.79</td>\n",
       "    </tr>\n",
       "    <tr>\n",
       "      <th>6</th>\n",
       "      <td>Accuracy</td>\n",
       "      <td>0.99</td>\n",
       "      <td>0.99</td>\n",
       "      <td>0.91</td>\n",
       "      <td>0.76</td>\n",
       "    </tr>\n",
       "    <tr>\n",
       "      <th>7</th>\n",
       "      <td>Macro Avg (Precision)</td>\n",
       "      <td>0.99</td>\n",
       "      <td>0.99</td>\n",
       "      <td>0.91</td>\n",
       "      <td>0.76</td>\n",
       "    </tr>\n",
       "    <tr>\n",
       "      <th>8</th>\n",
       "      <td>Macro Avg (Recall)</td>\n",
       "      <td>0.99</td>\n",
       "      <td>0.99</td>\n",
       "      <td>0.91</td>\n",
       "      <td>0.76</td>\n",
       "    </tr>\n",
       "    <tr>\n",
       "      <th>9</th>\n",
       "      <td>Macro Avg (F1-Score)</td>\n",
       "      <td>0.99</td>\n",
       "      <td>0.99</td>\n",
       "      <td>0.91</td>\n",
       "      <td>0.76</td>\n",
       "    </tr>\n",
       "    <tr>\n",
       "      <th>10</th>\n",
       "      <td>Weighted Avg (Precision)</td>\n",
       "      <td>0.99</td>\n",
       "      <td>0.99</td>\n",
       "      <td>0.91</td>\n",
       "      <td>0.76</td>\n",
       "    </tr>\n",
       "    <tr>\n",
       "      <th>11</th>\n",
       "      <td>Weighted Avg (Recall)</td>\n",
       "      <td>0.99</td>\n",
       "      <td>0.99</td>\n",
       "      <td>0.91</td>\n",
       "      <td>0.76</td>\n",
       "    </tr>\n",
       "    <tr>\n",
       "      <th>12</th>\n",
       "      <td>Weighted Avg (F1-Score)</td>\n",
       "      <td>0.99</td>\n",
       "      <td>0.99</td>\n",
       "      <td>0.91</td>\n",
       "      <td>0.76</td>\n",
       "    </tr>\n",
       "  </tbody>\n",
       "</table>\n",
       "</div>"
      ],
      "text/plain": [
       "                      Metric  kNN (Scaled)  kNN (No Scaling)  SVM (Scaled)  \\\n",
       "0        Precision (Class 0)          0.99              0.99          0.90   \n",
       "1        Precision (Class 1)          0.99              0.99          0.92   \n",
       "2           Recall (Class 0)          0.99              0.99          0.90   \n",
       "3           Recall (Class 1)          0.99              0.99          0.92   \n",
       "4         F1-Score (Class 0)          0.99              0.99          0.90   \n",
       "5         F1-Score (Class 1)          0.99              0.99          0.92   \n",
       "6                   Accuracy          0.99              0.99          0.91   \n",
       "7      Macro Avg (Precision)          0.99              0.99          0.91   \n",
       "8         Macro Avg (Recall)          0.99              0.99          0.91   \n",
       "9       Macro Avg (F1-Score)          0.99              0.99          0.91   \n",
       "10  Weighted Avg (Precision)          0.99              0.99          0.91   \n",
       "11     Weighted Avg (Recall)          0.99              0.99          0.91   \n",
       "12   Weighted Avg (F1-Score)          0.99              0.99          0.91   \n",
       "\n",
       "    SVM (No Scaling)  \n",
       "0               0.75  \n",
       "1               0.77  \n",
       "2               0.72  \n",
       "3               0.80  \n",
       "4               0.73  \n",
       "5               0.79  \n",
       "6               0.76  \n",
       "7               0.76  \n",
       "8               0.76  \n",
       "9               0.76  \n",
       "10              0.76  \n",
       "11              0.76  \n",
       "12              0.76  "
      ]
     },
     "metadata": {},
     "output_type": "display_data"
    }
   ],
   "source": [
    "comparison_df = pd.DataFrame({\n",
    "    \"Metric\": [\n",
    "        \"Precision (Class 0)\", \"Precision (Class 1)\", \n",
    "        \"Recall (Class 0)\", \"Recall (Class 1)\", \n",
    "        \"F1-Score (Class 0)\", \"F1-Score (Class 1)\", \n",
    "        \"Accuracy\", \n",
    "        \"Macro Avg (Precision)\", \"Macro Avg (Recall)\", \"Macro Avg (F1-Score)\",\n",
    "        \"Weighted Avg (Precision)\", \"Weighted Avg (Recall)\", \"Weighted Avg (F1-Score)\"\n",
    "    ],\n",
    "    \"kNN (Scaled)\": [0.99, 0.99, 0.99, 0.99, 0.99, 0.99, 0.99, 0.99, 0.99, 0.99, 0.99, 0.99, 0.99],\n",
    "    \"kNN (No Scaling)\": [0.99, 0.99, 0.99, 0.99, 0.99, 0.99, 0.99, 0.99, 0.99, 0.99, 0.99, 0.99, 0.99],\n",
    "    \"SVM (Scaled)\": [0.90, 0.92, 0.90, 0.92, 0.90, 0.92, 0.91, 0.91, 0.91, 0.91, 0.91, 0.91, 0.91],\n",
    "    \"SVM (No Scaling)\": [0.75, 0.77, 0.72, 0.80, 0.73, 0.79, 0.76, 0.76, 0.76, 0.76, 0.76, 0.76, 0.76]\n",
    "})\n",
    "\n",
    "\n",
    "display(comparison_df)"
   ]
  }
 ],
 "metadata": {
  "kernelspec": {
   "display_name": "Python 3",
   "language": "python",
   "name": "python3"
  },
  "language_info": {
   "codemirror_mode": {
    "name": "ipython",
    "version": 3
   },
   "file_extension": ".py",
   "mimetype": "text/x-python",
   "name": "python",
   "nbconvert_exporter": "python",
   "pygments_lexer": "ipython3",
   "version": "3.12.0"
  }
 },
 "nbformat": 4,
 "nbformat_minor": 2
}
