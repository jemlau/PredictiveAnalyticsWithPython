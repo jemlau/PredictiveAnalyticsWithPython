{
 "cells": [
  {
   "cell_type": "code",
   "execution_count": 72,
   "metadata": {},
   "outputs": [],
   "source": [
    "import pandas as pd\n",
    "import numpy as np\n",
    "from sklearn import datasets, svm\n",
    "\n",
    "from sklearn.model_selection import train_test_split, GridSearchCV\n",
    "from sklearn.neighbors import KNeighborsClassifier\n",
    "from sklearn.metrics import accuracy_score\n",
    "\n",
    "import matplotlib.pyplot as plt\n",
    "import seaborn as sns\n",
    "from sklearn.svm import SVC\n",
    "\n",
    "from sklearn.metrics import classification_report, confusion_matrix, ConfusionMatrixDisplay\n",
    "\n",
    "from sklearn.preprocessing import StandardScaler"
   ]
  },
  {
   "cell_type": "code",
   "execution_count": 52,
   "metadata": {},
   "outputs": [],
   "source": [
    "df_mushroom_dataset = pd.read_csv('mushroom_cleaned.csv')"
   ]
  },
  {
   "cell_type": "code",
   "execution_count": 53,
   "metadata": {},
   "outputs": [
    {
     "data": {
      "text/html": [
       "<div>\n",
       "<style scoped>\n",
       "    .dataframe tbody tr th:only-of-type {\n",
       "        vertical-align: middle;\n",
       "    }\n",
       "\n",
       "    .dataframe tbody tr th {\n",
       "        vertical-align: top;\n",
       "    }\n",
       "\n",
       "    .dataframe thead th {\n",
       "        text-align: right;\n",
       "    }\n",
       "</style>\n",
       "<table border=\"1\" class=\"dataframe\">\n",
       "  <thead>\n",
       "    <tr style=\"text-align: right;\">\n",
       "      <th></th>\n",
       "      <th>cap-diameter</th>\n",
       "      <th>cap-shape</th>\n",
       "      <th>gill-attachment</th>\n",
       "      <th>gill-color</th>\n",
       "      <th>stem-height</th>\n",
       "      <th>stem-width</th>\n",
       "      <th>stem-color</th>\n",
       "      <th>season</th>\n",
       "      <th>class</th>\n",
       "    </tr>\n",
       "  </thead>\n",
       "  <tbody>\n",
       "    <tr>\n",
       "      <th>0</th>\n",
       "      <td>1372</td>\n",
       "      <td>2</td>\n",
       "      <td>2</td>\n",
       "      <td>10</td>\n",
       "      <td>3.807467</td>\n",
       "      <td>1545</td>\n",
       "      <td>11</td>\n",
       "      <td>1.804273</td>\n",
       "      <td>1</td>\n",
       "    </tr>\n",
       "    <tr>\n",
       "      <th>1</th>\n",
       "      <td>1461</td>\n",
       "      <td>2</td>\n",
       "      <td>2</td>\n",
       "      <td>10</td>\n",
       "      <td>3.807467</td>\n",
       "      <td>1557</td>\n",
       "      <td>11</td>\n",
       "      <td>1.804273</td>\n",
       "      <td>1</td>\n",
       "    </tr>\n",
       "    <tr>\n",
       "      <th>2</th>\n",
       "      <td>1371</td>\n",
       "      <td>2</td>\n",
       "      <td>2</td>\n",
       "      <td>10</td>\n",
       "      <td>3.612496</td>\n",
       "      <td>1566</td>\n",
       "      <td>11</td>\n",
       "      <td>1.804273</td>\n",
       "      <td>1</td>\n",
       "    </tr>\n",
       "    <tr>\n",
       "      <th>3</th>\n",
       "      <td>1261</td>\n",
       "      <td>6</td>\n",
       "      <td>2</td>\n",
       "      <td>10</td>\n",
       "      <td>3.787572</td>\n",
       "      <td>1566</td>\n",
       "      <td>11</td>\n",
       "      <td>1.804273</td>\n",
       "      <td>1</td>\n",
       "    </tr>\n",
       "    <tr>\n",
       "      <th>4</th>\n",
       "      <td>1305</td>\n",
       "      <td>6</td>\n",
       "      <td>2</td>\n",
       "      <td>10</td>\n",
       "      <td>3.711971</td>\n",
       "      <td>1464</td>\n",
       "      <td>11</td>\n",
       "      <td>0.943195</td>\n",
       "      <td>1</td>\n",
       "    </tr>\n",
       "  </tbody>\n",
       "</table>\n",
       "</div>"
      ],
      "text/plain": [
       "   cap-diameter  cap-shape  gill-attachment  gill-color  stem-height  \\\n",
       "0          1372          2                2          10     3.807467   \n",
       "1          1461          2                2          10     3.807467   \n",
       "2          1371          2                2          10     3.612496   \n",
       "3          1261          6                2          10     3.787572   \n",
       "4          1305          6                2          10     3.711971   \n",
       "\n",
       "   stem-width  stem-color    season  class  \n",
       "0        1545          11  1.804273      1  \n",
       "1        1557          11  1.804273      1  \n",
       "2        1566          11  1.804273      1  \n",
       "3        1566          11  1.804273      1  \n",
       "4        1464          11  0.943195      1  "
      ]
     },
     "execution_count": 53,
     "metadata": {},
     "output_type": "execute_result"
    }
   ],
   "source": [
    "df_mushroom_dataset.head()"
   ]
  },
  {
   "cell_type": "code",
   "execution_count": 54,
   "metadata": {},
   "outputs": [
    {
     "name": "stdout",
     "output_type": "stream",
     "text": [
      "<class 'pandas.core.frame.DataFrame'>\n",
      "RangeIndex: 54035 entries, 0 to 54034\n",
      "Data columns (total 9 columns):\n",
      " #   Column           Non-Null Count  Dtype  \n",
      "---  ------           --------------  -----  \n",
      " 0   cap-diameter     54035 non-null  int64  \n",
      " 1   cap-shape        54035 non-null  int64  \n",
      " 2   gill-attachment  54035 non-null  int64  \n",
      " 3   gill-color       54035 non-null  int64  \n",
      " 4   stem-height      54035 non-null  float64\n",
      " 5   stem-width       54035 non-null  int64  \n",
      " 6   stem-color       54035 non-null  int64  \n",
      " 7   season           54035 non-null  float64\n",
      " 8   class            54035 non-null  int64  \n",
      "dtypes: float64(2), int64(7)\n",
      "memory usage: 3.7 MB\n"
     ]
    }
   ],
   "source": [
    "df_mushroom_dataset.info()"
   ]
  },
  {
   "cell_type": "code",
   "execution_count": 55,
   "metadata": {},
   "outputs": [
    {
     "name": "stdout",
     "output_type": "stream",
     "text": [
      "       cap-diameter     cap-shape  gill-attachment    gill-color  \\\n",
      "count  54035.000000  54035.000000     54035.000000  54035.000000   \n",
      "mean     567.257204      4.000315         2.142056      7.329509   \n",
      "std      359.883763      2.160505         2.228821      3.200266   \n",
      "min        0.000000      0.000000         0.000000      0.000000   \n",
      "25%      289.000000      2.000000         0.000000      5.000000   \n",
      "50%      525.000000      5.000000         1.000000      8.000000   \n",
      "75%      781.000000      6.000000         4.000000     10.000000   \n",
      "max     1891.000000      6.000000         6.000000     11.000000   \n",
      "\n",
      "        stem-height    stem-width    stem-color        season         class  \n",
      "count  54035.000000  54035.000000  54035.000000  54035.000000  54035.000000  \n",
      "mean       0.759110   1051.081299      8.418062      0.952163      0.549181  \n",
      "std        0.650969    782.056076      3.262078      0.305594      0.497580  \n",
      "min        0.000426      0.000000      0.000000      0.027372      0.000000  \n",
      "25%        0.270997    421.000000      6.000000      0.888450      0.000000  \n",
      "50%        0.593295    923.000000     11.000000      0.943195      1.000000  \n",
      "75%        1.054858   1523.000000     11.000000      0.943195      1.000000  \n",
      "max        3.835320   3569.000000     12.000000      1.804273      1.000000  \n"
     ]
    }
   ],
   "source": [
    "print(df_mushroom_dataset.describe())"
   ]
  },
  {
   "cell_type": "markdown",
   "metadata": {},
   "source": [
    "## Scaling the data"
   ]
  },
  {
   "cell_type": "code",
   "execution_count": 56,
   "metadata": {},
   "outputs": [],
   "source": [
    "X = df_mushroom_dataset.drop(columns=['class'])  # Features (all columns except 'class')\n",
    "y = df_mushroom_dataset['class']\n",
    "\n",
    "scaler = StandardScaler()\n",
    "X_scaled = scaler.fit_transform(X)"
   ]
  },
  {
   "cell_type": "markdown",
   "metadata": {},
   "source": [
    "## Divide data to train and tests"
   ]
  },
  {
   "cell_type": "code",
   "execution_count": 57,
   "metadata": {},
   "outputs": [],
   "source": [
    "X_train, X_test, y_train, y_test = train_test_split(X_scaled, y, test_size=0.2, random_state=42)"
   ]
  },
  {
   "cell_type": "markdown",
   "metadata": {},
   "source": [
    "## kNN"
   ]
  },
  {
   "cell_type": "code",
   "execution_count": 58,
   "metadata": {},
   "outputs": [
    {
     "name": "stdout",
     "output_type": "stream",
     "text": [
      "kNN Accuracy:  0.9895438141945035\n"
     ]
    }
   ],
   "source": [
    "knn = KNeighborsClassifier(n_neighbors=5)\n",
    "knn.fit(X_train, y_train)\n",
    "y_pred_knn = knn.predict(X_test)\n",
    "\n",
    "print(\"kNN Accuracy: \", accuracy_score(y_test, y_pred_knn))"
   ]
  },
  {
   "cell_type": "code",
   "execution_count": 59,
   "metadata": {},
   "outputs": [
    {
     "name": "stdout",
     "output_type": "stream",
     "text": [
      "Accuracy with K=1: 0.99\n",
      "Accuracy with K=2: 0.99\n",
      "Accuracy with K=3: 0.99\n",
      "Accuracy with K=4: 0.99\n",
      "Accuracy with K=5: 0.99\n",
      "Accuracy with K=6: 0.99\n",
      "Accuracy with K=7: 0.99\n",
      "Accuracy with K=8: 0.99\n",
      "Accuracy with K=9: 0.99\n",
      "Accuracy with K=10: 0.99\n"
     ]
    }
   ],
   "source": [
    "# Which K value is most accurate\n",
    "for k in range(1, 11):  # Try K from 1 to 10\n",
    "    knn = KNeighborsClassifier(n_neighbors=k)\n",
    "    knn.fit(X_train, y_train)\n",
    "    score = accuracy_score(y_test, knn.predict(X_test))\n",
    "    print(f\"Accuracy with K={k}: {score:.2f}\")"
   ]
  },
  {
   "cell_type": "code",
   "execution_count": null,
   "metadata": {},
   "outputs": [
    {
     "name": "stdout",
     "output_type": "stream",
     "text": [
      "kNN Accuracy without scaling (k=1): 0.99\n",
      "kNN Accuracy without scaling (k=2): 0.99\n",
      "kNN Accuracy without scaling (k=3): 0.99\n",
      "kNN Accuracy without scaling (k=4): 0.99\n",
      "kNN Accuracy without scaling (k=5): 0.99\n",
      "kNN Accuracy without scaling (k=6): 0.99\n",
      "kNN Accuracy without scaling (k=7): 0.99\n",
      "kNN Accuracy without scaling (k=8): 0.99\n",
      "kNN Accuracy without scaling (k=9): 0.99\n",
      "kNN Accuracy without scaling (k=10): 0.99\n"
     ]
    }
   ],
   "source": [
    "#Loop over different values of k (1 to 10) for kNN without scaling\n",
    "for k in range(1, 11):\n",
    "    knn_no_scaling = KNeighborsClassifier(n_neighbors=k)\n",
    "    knn_no_scaling.fit(X_train, y_train)\n",
    "    y_pred_knn_no_scaling = knn_no_scaling.predict(X_test)\n",
    "    accuracy = accuracy_score(y_test, y_pred_knn_no_scaling)\n",
    "    print(f\"kNN Accuracy without scaling (k={k}): {accuracy:.2f}\")\n"
   ]
  },
  {
   "cell_type": "markdown",
   "metadata": {},
   "source": [
    "## SVM"
   ]
  },
  {
   "cell_type": "code",
   "execution_count": 60,
   "metadata": {},
   "outputs": [
    {
     "name": "stdout",
     "output_type": "stream",
     "text": [
      "SVM Accuracy: 0.9080225779587304\n"
     ]
    }
   ],
   "source": [
    "# Mallin koulutus ja ennustus\n",
    "svm = SVC(kernel='rbf')  \n",
    "svm.fit(X_train, y_train)\n",
    "y_pred_svm = svm.predict(X_test)\n",
    "\n",
    "# Tarkkuus\n",
    "print(\"SVM Accuracy:\", accuracy_score(y_test, y_pred_svm))"
   ]
  },
  {
   "cell_type": "code",
   "execution_count": 61,
   "metadata": {},
   "outputs": [
    {
     "name": "stdout",
     "output_type": "stream",
     "text": [
      "Kernel=linear, Accuracy: 0.643379291200148\n",
      "Kernel=rbf, Accuracy: 0.9080225779587304\n",
      "Kernel=poly, Accuracy: 0.7639492921254742\n"
     ]
    }
   ],
   "source": [
    "for kernel in ['linear', 'rbf', 'poly']:\n",
    "    svm = SVC(kernel=kernel)\n",
    "    svm.fit(X_train, y_train)\n",
    "    y_pred = svm.predict(X_test)\n",
    "    print(f\"Kernel={kernel}, Accuracy: {accuracy_score(y_test, y_pred)}\")"
   ]
  },
  {
   "cell_type": "code",
   "execution_count": null,
   "metadata": {},
   "outputs": [
    {
     "name": "stdout",
     "output_type": "stream",
     "text": [
      "SVM Accuracy without scaling (kernel=linear): 0.64\n",
      "SVM Accuracy without scaling (kernel=rbf): 0.91\n",
      "SVM Accuracy without scaling (kernel=poly): 0.76\n"
     ]
    }
   ],
   "source": [
    "#Loop over different kernels for SVM without scaling\n",
    "for kernel in ['linear', 'rbf', 'poly']:\n",
    "    svm_no_scaling = SVC(kernel=kernel)\n",
    "    svm_no_scaling.fit(X_train, y_train)\n",
    "    y_pred_svm_no_scaling = svm_no_scaling.predict(X_test)\n",
    "    accuracy = accuracy_score(y_test, y_pred_svm_no_scaling)\n",
    "    print(f\"SVM Accuracy without scaling (kernel={kernel}): {accuracy:.2f}\")"
   ]
  },
  {
   "cell_type": "code",
   "execution_count": null,
   "metadata": {},
   "outputs": [],
   "source": [
    "parameters = {'kernel':('linear', 'rbf'), 'C':[1, 10]}\n",
    "svc = svm.SVC()\n",
    "clf = GridSearchCV(svc, parameters)\n",
    "clf.fit(X, y)"
   ]
  },
  {
   "cell_type": "markdown",
   "metadata": {},
   "source": [
    "## Confusion matrix"
   ]
  },
  {
   "cell_type": "code",
   "execution_count": 69,
   "metadata": {},
   "outputs": [
    {
     "data": {
      "text/plain": [
       "<sklearn.metrics._plot.confusion_matrix.ConfusionMatrixDisplay at 0x1ef84e1ea80>"
      ]
     },
     "execution_count": 69,
     "metadata": {},
     "output_type": "execute_result"
    },
    {
     "data": {
      "image/png": "[encoded data removed]",
      "text/plain": [
       "<Figure size 640x480 with 2 Axes>"
      ]
     },
     "metadata": {},
     "output_type": "display_data"
    },
    {
     "data": {
      "image/png": "[encoded data removed]",
      "text/plain": [
       "<Figure size 640x480 with 2 Axes>"
      ]
     },
     "metadata": {},
     "output_type": "display_data"
    }
   ],
   "source": [
    "cm_knn = confusion_matrix(y_test, y_pred_knn)\n",
    "cm_svm = confusion_matrix(y_test, y_pred_svm)\n",
    "\n",
    "ConfusionMatrixDisplay(cm_knn, display_labels=[\"Edible\", \"Poisonous\"]).plot()\n",
    "ConfusionMatrixDisplay(cm_svm, display_labels=[\"Edible\", \"Poisonous\"]).plot()"
   ]
  },
  {
   "cell_type": "markdown",
   "metadata": {},
   "source": [
    "## kNN results"
   ]
  },
  {
   "cell_type": "code",
   "execution_count": null,
   "metadata": {},
   "outputs": [
    {
     "name": "stdout",
     "output_type": "stream",
     "text": [
      "kNN Classification Report:\n",
      "              precision    recall  f1-score   support\n",
      "\n",
      "           0       0.99      0.99      0.99      4909\n",
      "           1       0.99      0.99      0.99      5898\n",
      "\n",
      "    accuracy                           0.99     10807\n",
      "   macro avg       0.99      0.99      0.99     10807\n",
      "weighted avg       0.99      0.99      0.99     10807\n",
      "\n"
     ]
    }
   ],
   "source": [
    "print(\"kNN Classification Report (Scaled):\")\n",
    "print(classification_report(y_test, y_pred_knn))"
   ]
  },
  {
   "cell_type": "code",
   "execution_count": null,
   "metadata": {},
   "outputs": [
    {
     "name": "stdout",
     "output_type": "stream",
     "text": [
      "kNN Classification Report (Ei skaalausta):\n",
      "              precision    recall  f1-score   support\n",
      "\n",
      "           0       0.99      0.99      0.99      4909\n",
      "           1       0.99      0.99      0.99      5898\n",
      "\n",
      "    accuracy                           0.99     10807\n",
      "   macro avg       0.99      0.99      0.99     10807\n",
      "weighted avg       0.99      0.99      0.99     10807\n",
      "\n"
     ]
    }
   ],
   "source": [
    "print(\"kNN Classification Report (No scaling):\")\n",
    "print(classification_report(y_test, y_pred_knn_no_scaling))"
   ]
  },
  {
   "cell_type": "markdown",
   "metadata": {},
   "source": [
    "## SVM results"
   ]
  },
  {
   "cell_type": "code",
   "execution_count": 64,
   "metadata": {},
   "outputs": [
    {
     "name": "stdout",
     "output_type": "stream",
     "text": [
      "SVM Classification Report:\n",
      "              precision    recall  f1-score   support\n",
      "\n",
      "           0       0.90      0.90      0.90      4909\n",
      "           1       0.92      0.92      0.92      5898\n",
      "\n",
      "    accuracy                           0.91     10807\n",
      "   macro avg       0.91      0.91      0.91     10807\n",
      "weighted avg       0.91      0.91      0.91     10807\n",
      "\n"
     ]
    }
   ],
   "source": [
    "print(\"SVM Classification Report:\")\n",
    "print(classification_report(y_test, y_pred_svm))"
   ]
  },
  {
   "cell_type": "code",
   "execution_count": 68,
   "metadata": {},
   "outputs": [
    {
     "name": "stdout",
     "output_type": "stream",
     "text": [
      "SVM Classification Report (No scaling):\n",
      "              precision    recall  f1-score   support\n",
      "\n",
      "           0       0.75      0.72      0.73      4909\n",
      "           1       0.77      0.80      0.79      5898\n",
      "\n",
      "    accuracy                           0.76     10807\n",
      "   macro avg       0.76      0.76      0.76     10807\n",
      "weighted avg       0.76      0.76      0.76     10807\n",
      "\n"
     ]
    }
   ],
   "source": [
    "print(\"SVM Classification Report (No scaling):\")\n",
    "print(classification_report(y_test, y_pred_svm_no_scaling))"
   ]
  }
 ],
 "metadata": {
  "kernelspec": {
   "display_name": "Python 3",
   "language": "python",
   "name": "python3"
  },
  "language_info": {
   "codemirror_mode": {
    "name": "ipython",
    "version": 3
   },
   "file_extension": ".py",
   "mimetype": "text/x-python",
   "name": "python",
   "nbconvert_exporter": "python",
   "pygments_lexer": "ipython3",
   "version": "3.12.0"
  }
 },
 "nbformat": 4,
 "nbformat_minor": 2
}
